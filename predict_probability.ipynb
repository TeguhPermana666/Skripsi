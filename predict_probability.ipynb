{
 "cells": [
  {
   "cell_type": "markdown",
   "metadata": {},
   "source": [
    "### Predict Proba used the VGG Model"
   ]
  },
  {
   "cell_type": "code",
   "execution_count": 1,
   "metadata": {},
   "outputs": [],
   "source": [
    "import pandas as pd\n",
    "import numpy as np\n",
    "import tensorflow as tf\n",
    "from tensorflow import keras\n",
    "from vgg16 import VGG_16"
   ]
  },
  {
   "cell_type": "code",
   "execution_count": 2,
   "metadata": {},
   "outputs": [],
   "source": [
    "train_file = \"Dataset\\Dataset_Fashion(11-Label).csv\"\n",
    "test_file  = \"Dataset\\Testing(11 Label).csv\"\n",
    "\n",
    "train_data = pd.read_csv(train_file,index_col=0)\n",
    "test_data = pd.read_csv(test_file,index_col=0)"
   ]
  },
  {
   "cell_type": "code",
   "execution_count": 3,
   "metadata": {},
   "outputs": [],
   "source": [
    "IMG_ROWS = 28\n",
    "IMG_COLS = 28\n",
    "NUM_CLASSES = 11\n",
    "TEST_SIZE = 0.1\n",
    "RANDOM_STATE = 2018\n",
    "#Model\n",
    "NO_EPOCHS = 50\n",
    "BATCH_SIZE = 128"
   ]
  },
  {
   "cell_type": "code",
   "execution_count": 4,
   "metadata": {},
   "outputs": [],
   "source": [
    "# data preprocessing\n",
    "from tensorflow.keras.utils import to_categorical\n",
    "def data_preprocessing(raw):\n",
    "    out_y = to_categorical(raw.label, NUM_CLASSES)\n",
    "    num_images = raw.shape[0]\n",
    "    x_as_array = raw.values[:,1:]\n",
    "    x_shaped_array = x_as_array.reshape(num_images, IMG_ROWS, IMG_COLS, 1)\n",
    "    out_x = x_shaped_array / 255\n",
    "    return out_x, out_y"
   ]
  },
  {
   "cell_type": "code",
   "execution_count": 5,
   "metadata": {},
   "outputs": [],
   "source": [
    "X_train, y_train = data_preprocessing(train_data)\n",
    "X_test, y_test = data_preprocessing(test_data)"
   ]
  },
  {
   "cell_type": "code",
   "execution_count": 6,
   "metadata": {},
   "outputs": [],
   "source": [
    "load_VGG16_from_weight=VGG_16()\n",
    "load_VGG16_from_weight.load_weights(r'Model\\Weight-model_VGG16-01.h5')\n",
    "load_VGG16_from_weight.compile(loss=keras.losses.categorical_crossentropy,\n",
    "              optimizer='adam',\n",
    "              metrics=['accuracy'])"
   ]
  },
  {
   "cell_type": "code",
   "execution_count": 7,
   "metadata": {},
   "outputs": [
    {
     "name": "stdout",
     "output_type": "stream",
     "text": [
      "Test loss: 0.0614214725792408\n",
      "Test accuracy: 0.9863636493682861\n"
     ]
    }
   ],
   "source": [
    "score_load_VGG16 = load_VGG16_from_weight.evaluate(X_test, y_test, verbose=0)\n",
    "print('Test loss:', score_load_VGG16[0])\n",
    "print('Test accuracy:', score_load_VGG16[1])"
   ]
  },
  {
   "cell_type": "code",
   "execution_count": 30,
   "metadata": {},
   "outputs": [
    {
     "name": "stdout",
     "output_type": "stream",
     "text": [
      "7/7 [==============================] - 0s 16ms/step\n"
     ]
    },
    {
     "data": {
      "text/plain": [
       "array([ 0,  0,  0,  0,  0,  0,  0,  0,  0,  0,  0,  0,  0,  0,  0,  0,  0,\n",
       "        0,  0,  0,  1,  1,  1,  1,  1,  1,  1,  1,  1,  1,  1,  1,  1,  1,\n",
       "        1,  1,  1,  1,  1,  1,  2,  2,  2,  2,  2,  2,  2,  2,  2,  2,  2,\n",
       "        2,  2,  2,  2,  2,  2,  2,  2,  2,  3,  3,  3,  3,  3,  3,  3,  3,\n",
       "        3,  3,  3,  3,  3,  3,  3,  3,  3,  3,  3,  3,  4,  4,  4,  4,  4,\n",
       "        4,  4,  4,  4,  4,  4,  4,  4,  4,  4,  4,  4,  4,  4,  4,  5,  5,\n",
       "        5,  5,  5,  5,  5,  5,  5,  5,  5,  5,  5,  5,  5,  5,  5,  5,  5,\n",
       "        5,  6,  6,  9,  6,  9,  6,  6,  6,  6,  6,  6,  6,  6,  6,  1,  6,\n",
       "        6,  6,  6,  6,  7,  7,  7,  7,  7,  7,  7,  7,  7,  7,  7,  7,  7,\n",
       "        7,  7,  7,  7,  7,  7,  7,  8,  8,  8,  8,  8,  8,  8,  8,  8,  8,\n",
       "        8,  8,  8,  8,  8,  8,  8,  8,  8,  8,  9,  9,  9,  9,  9,  9,  9,\n",
       "        9,  9,  9,  9,  9,  9,  9,  9,  9,  9,  9,  9,  9, 10, 10, 10, 10,\n",
       "       10, 10, 10, 10, 10, 10, 10, 10, 10, 10, 10, 10, 10, 10, 10, 10],\n",
       "      dtype=int64)"
      ]
     },
     "execution_count": 30,
     "metadata": {},
     "output_type": "execute_result"
    }
   ],
   "source": [
    "predict_proba=load_VGG16_from_weight.predict(X_test)\n",
    "predicit_class_indices=predict_proba.argmax(axis=1)\n",
    "predicit_class_indices    "
   ]
  },
  {
   "cell_type": "code",
   "execution_count": 31,
   "metadata": {},
   "outputs": [
    {
     "data": {
      "text/plain": [
       "array([ 0,  0,  0,  0,  0,  0,  0,  0,  0,  0,  0,  0,  0,  0,  0,  0,  0,\n",
       "        0,  0,  0,  1,  1,  1,  1,  1,  1,  1,  1,  1,  1,  1,  1,  1,  1,\n",
       "        1,  1,  1,  1,  1,  1,  2,  2,  2,  2,  2,  2,  2,  2,  2,  2,  2,\n",
       "        2,  2,  2,  2,  2,  2,  2,  2,  2,  3,  3,  3,  3,  3,  3,  3,  3,\n",
       "        3,  3,  3,  3,  3,  3,  3,  3,  3,  3,  3,  3,  4,  4,  4,  4,  4,\n",
       "        4,  4,  4,  4,  4,  4,  4,  4,  4,  4,  4,  4,  4,  4,  4,  5,  5,\n",
       "        5,  5,  5,  5,  5,  5,  5,  5,  5,  5,  5,  5,  5,  5,  5,  5,  5,\n",
       "        5,  6,  6,  6,  6,  6,  6,  6,  6,  6,  6,  6,  6,  6,  6,  6,  6,\n",
       "        6,  6,  6,  6,  7,  7,  7,  7,  7,  7,  7,  7,  7,  7,  7,  7,  7,\n",
       "        7,  7,  7,  7,  7,  7,  7,  8,  8,  8,  8,  8,  8,  8,  8,  8,  8,\n",
       "        8,  8,  8,  8,  8,  8,  8,  8,  8,  8,  9,  9,  9,  9,  9,  9,  9,\n",
       "        9,  9,  9,  9,  9,  9,  9,  9,  9,  9,  9,  9,  9, 10, 10, 10, 10,\n",
       "       10, 10, 10, 10, 10, 10, 10, 10, 10, 10, 10, 10, 10, 10, 10, 10],\n",
       "      dtype=int64)"
      ]
     },
     "execution_count": 31,
     "metadata": {},
     "output_type": "execute_result"
    }
   ],
   "source": [
    "class_labels = y_test.argmax(axis=1)\n",
    "class_labels"
   ]
  },
  {
   "cell_type": "markdown",
   "metadata": {},
   "source": [
    "- 0   =>  Ankle Boot\n",
    "- 1   => Bag\n",
    "- 2   =>  Coat\n",
    "- 3   =>  Dress\n",
    "- 4   =>  Hat\n",
    "- 5   =>  Sandal\n",
    "- 6   =>  Shirt\n",
    "- 7   =>  Sneaker\n",
    "- 8   =>  Trouser\n",
    "- 9   =>  Tshirt_Top\n",
    "- 10  => Pullover "
   ]
  },
  {
   "cell_type": "code",
   "execution_count": 35,
   "metadata": {},
   "outputs": [
    {
     "name": "stdout",
     "output_type": "stream",
     "text": [
      "Label 0: Accuracy = 100.00%\n",
      "Label 1: Accuracy = 100.00%\n",
      "Label 2: Accuracy = 100.00%\n",
      "Label 3: Accuracy = 100.00%\n",
      "Label 4: Accuracy = 100.00%\n",
      "Label 5: Accuracy = 100.00%\n",
      "Label 6: Accuracy = 85.00%\n",
      "Label 7: Accuracy = 100.00%\n",
      "Label 8: Accuracy = 100.00%\n",
      "Label 9: Accuracy = 100.00%\n",
      "Label 10: Accuracy = 100.00%\n"
     ]
    },
    {
     "data": {
      "image/png": "[encoded data removed]",
      "text/plain": [
       "<Figure size 1000x600 with 1 Axes>"
      ]
     },
     "metadata": {},
     "output_type": "display_data"
    },
    {
     "name": "stdout",
     "output_type": "stream",
     "text": [
      "    Label  Accuracy\n",
      "0       0      1.00\n",
      "1       1      1.00\n",
      "2       2      1.00\n",
      "3       3      1.00\n",
      "4       4      1.00\n",
      "5       5      1.00\n",
      "6       6      0.85\n",
      "7       7      1.00\n",
      "8       8      1.00\n",
      "9       9      1.00\n",
      "10     10      1.00\n"
     ]
    }
   ],
   "source": [
    "from sklearn.metrics import accuracy_score\n",
    "import matplotlib.pyplot as plt\n",
    "# Calculate accuracy for each label\n",
    "accuracy_per_label = []\n",
    "unique_labels = np.unique(class_labels)\n",
    "\n",
    "for label in unique_labels:\n",
    "    indices = np.where(class_labels == label)[0]\n",
    "    accuracy = accuracy_score(class_labels[indices], predicit_class_indices[indices])\n",
    "    accuracy_per_label.append((label, accuracy))\n",
    "\n",
    "# Print the accuracy for each label\n",
    "for label, accuracy in accuracy_per_label:\n",
    "    print(f'Label {label}: Accuracy = {accuracy * 100:.2f}%')\n",
    "\n",
    "\n",
    "labels, accuracies = zip(*accuracy_per_label)\n",
    "\n",
    "# Plotting the bar chart\n",
    "plt.figure(figsize=(10, 6))\n",
    "plt.bar(labels, accuracies, color='blue')\n",
    "plt.xlabel('Label')\n",
    "plt.ylabel('Accuracy')\n",
    "plt.title('Accuracy for Each Label')\n",
    "plt.xticks(labels)\n",
    "plt.ylim(0, 1)  # Assuming accuracy is in the range [0, 1]\n",
    "plt.show()\n",
    "\n",
    "accuracy_per_label_frame = pd.DataFrame(accuracy_per_label, columns=['Label', 'Accuracy'])\n",
    "print(accuracy_per_label_frame)"
   ]
  },
  {
   "cell_type": "code",
   "execution_count": 33,
   "metadata": {},
   "outputs": [
    {
     "name": "stdout",
     "output_type": "stream",
     "text": [
      "7/7 [==============================] - 0s 27ms/step\n",
      "              precision    recall  f1-score   support\n",
      "\n",
      "           0       1.00      1.00      1.00        20\n",
      "           1       0.95      1.00      0.98        20\n",
      "           2       1.00      1.00      1.00        20\n",
      "           3       1.00      1.00      1.00        20\n",
      "           4       1.00      1.00      1.00        20\n",
      "           5       1.00      1.00      1.00        20\n",
      "           6       1.00      0.85      0.92        20\n",
      "           7       1.00      1.00      1.00        20\n",
      "           8       1.00      1.00      1.00        20\n",
      "           9       0.91      1.00      0.95        20\n",
      "          10       1.00      1.00      1.00        20\n",
      "\n",
      "    accuracy                           0.99       220\n",
      "   macro avg       0.99      0.99      0.99       220\n",
      "weighted avg       0.99      0.99      0.99       220\n",
      "\n"
     ]
    }
   ],
   "source": [
    "from sklearn.metrics import classification_report\n",
    "y_pred_vgg = load_VGG16_from_weight.predict(X_test)\n",
    "print(classification_report(y_test.argmax(axis=1), y_pred_vgg.argmax(axis=1)))"
   ]
  }
 ],
 "metadata": {
  "kernelspec": {
   "display_name": "Python 3.9.18 64-bit ('anaconda')",
   "language": "python",
   "name": "python3"
  },
  "language_info": {
   "codemirror_mode": {
    "name": "ipython",
    "version": 3
   },
   "file_extension": ".py",
   "mimetype": "text/x-python",
   "name": "python",
   "nbconvert_exporter": "python",
   "pygments_lexer": "ipython3",
   "version": "3.9.18"
  },
  "orig_nbformat": 4,
  "vscode": {
   "interpreter": {
    "hash": "586989f3c6054cb173cfa9f144982b93e16aaaf56d8ea1648306d681ca3deb8b"
   }
  }
 },
 "nbformat": 4,
 "nbformat_minor": 2
}
